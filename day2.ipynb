{
 "cells": [
  {
   "cell_type": "code",
   "execution_count": 1,
   "id": "d5f80d12-518b-4c9d-a292-bd0a20d122b9",
   "metadata": {},
   "outputs": [
    {
     "name": "stdout",
     "output_type": "stream",
     "text": [
      "hello\n"
     ]
    }
   ],
   "source": [
    "print(\"hello\")\n"
   ]
  },
  {
   "cell_type": "code",
   "execution_count": 1,
   "id": "885accfa-d75e-4fa0-855b-3a1c81bee093",
   "metadata": {},
   "outputs": [
    {
     "name": "stdin",
     "output_type": "stream",
     "text": [
      "Enter a number:  111\n"
     ]
    },
    {
     "name": "stdout",
     "output_type": "stream",
     "text": [
      "Current sum: 111\n"
     ]
    },
    {
     "name": "stdin",
     "output_type": "stream",
     "text": [
      "Enter a number:  222\n"
     ]
    },
    {
     "name": "stdout",
     "output_type": "stream",
     "text": [
      "Current sum: 333\n",
      "Sum has reached 300\n"
     ]
    }
   ],
   "source": [
    "total = 0\n",
    "while total < 300:\n",
    "    try:\n",
    "        num = int(input(\"Enter a number: \"))\n",
    "        total += num\n",
    "        print(f\"Current sum: {total}\")\n",
    "    except ValueError:\n",
    "        print(\"Please enter a valid integer.\")\n",
    "\n",
    "print(\"Sum has reached 300\")"
   ]
  },
  {
   "cell_type": "code",
   "execution_count": 2,
   "id": "a1ed928d-bfd2-4ef0-acbe-13dfe31c8e79",
   "metadata": {},
   "outputs": [
    {
     "name": "stdin",
     "output_type": "stream",
     "text": [
      "enter name madhu\n"
     ]
    },
    {
     "name": "stdout",
     "output_type": "stream",
     "text": [
      "m\n",
      "d\n",
      "h\n"
     ]
    }
   ],
   "source": [
    "n=input('enter name')\n",
    "for i in n:\n",
    "    if i=='a' or i=='e' or i=='i' or i=='o' or i=='u':\n",
    "        continue\n",
    "    else:\n",
    "        print(i)"
   ]
  },
  {
   "cell_type": "code",
   "execution_count": 3,
   "id": "9c7d621f-b0bc-4273-b162-f3defd512943",
   "metadata": {},
   "outputs": [
    {
     "name": "stdin",
     "output_type": "stream",
     "text": [
      "Enter a string:  book\n"
     ]
    },
    {
     "name": "stdout",
     "output_type": "stream",
     "text": [
      "Voyage\n"
     ]
    }
   ],
   "source": [
    "while True:\n",
    "    user = input(\"Enter a string: \")\n",
    "    if user == \"Bon\" or \"bon\":\n",
    "        print(\"Voyage\")\n",
    "        break"
   ]
  },
  {
   "cell_type": "code",
   "execution_count": 7,
   "id": "222045bf-dcf2-46e2-a9b0-d237a54e0cb3",
   "metadata": {},
   "outputs": [
    {
     "name": "stdin",
     "output_type": "stream",
     "text": [
      "Enter your door number and street:  1213\n"
     ]
    },
    {
     "name": "stdout",
     "output_type": "stream",
     "text": [
      "Numbers in the address: 1213\n"
     ]
    }
   ],
   "source": [
    "address = input(\"Enter your door number and street: \")\n",
    "\n",
    "numbers = \"\"\n",
    "for char in address:\n",
    "    if '0' <= char <= '9':\n",
    "        numbers += char\n",
    "\n",
    "print(\"Numbers in the address:\", numbers)\n"
   ]
  },
  {
   "cell_type": "code",
   "execution_count": 6,
   "id": "f020cfe1-085d-46f0-bd5f-0aeb48e782c1",
   "metadata": {},
   "outputs": [
    {
     "name": "stdout",
     "output_type": "stream",
     "text": [
      "Enter 5 elements:\n"
     ]
    },
    {
     "name": "stdin",
     "output_type": "stream",
     "text": [
      "Element 1:  apple\n",
      "Element 2:  dog\n",
      "Element 3:  cat\n",
      "Element 4:  cow\n",
      "Element 5:  doll\n",
      "Enter your name:  madhura\n"
     ]
    },
    {
     "name": "stdout",
     "output_type": "stream",
     "text": [
      "Updated list: ['apple', 'dog', 'madhura', 'cow', 'madhura']\n"
     ]
    }
   ],
   "source": [
    "\n",
    "list = []\n",
    "print(\"Enter 5 elements:\")\n",
    "for i in range(5):\n",
    "    element = input(f\"Element {i+1}: \")\n",
    "    list.append(element)\n",
    "\n",
    "\n",
    "name = input(\"Enter your name: \")\n",
    "\n",
    "\n",
    "list[2] = name\n",
    "list[4] = name\n",
    "\n",
    "\n",
    "print(\"Updated list:\", list)\n"
   ]
  },
  {
   "cell_type": "raw",
   "id": "6377c65d-6ad3-4d69-91fe-5595f5176bf3",
   "metadata": {},
   "source": []
  },
  {
   "cell_type": "code",
   "execution_count": null,
   "id": "b32008ed-d0ae-44bb-9776-e7d4df33a8c7",
   "metadata": {},
   "outputs": [],
   "source": []
  },
  {
   "cell_type": "code",
   "execution_count": null,
   "id": "7480b773-b908-423c-9b23-ec6b792e7379",
   "metadata": {},
   "outputs": [],
   "source": []
  },
  {
   "cell_type": "code",
   "execution_count": null,
   "id": "527209a9-18c6-4795-8141-5f81d065cad2",
   "metadata": {},
   "outputs": [],
   "source": []
  }
 ],
 "metadata": {
  "kernelspec": {
   "display_name": "Python 3 (ipykernel)",
   "language": "python",
   "name": "python3"
  },
  "language_info": {
   "codemirror_mode": {
    "name": "ipython",
    "version": 3
   },
   "file_extension": ".py",
   "mimetype": "text/x-python",
   "name": "python",
   "nbconvert_exporter": "python",
   "pygments_lexer": "ipython3",
   "version": "3.11.4"
  }
 },
 "nbformat": 4,
 "nbformat_minor": 5
}
