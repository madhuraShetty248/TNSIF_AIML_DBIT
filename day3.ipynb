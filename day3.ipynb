{
 "cells": [
  {
   "cell_type": "code",
   "execution_count": 1,
   "id": "bab2a464-44c8-49b9-8310-5da0957b7165",
   "metadata": {},
   "outputs": [
    {
     "name": "stdin",
     "output_type": "stream",
     "text": [
      "Enter elements separated by commas:  madhura,madhu\n",
      "Enter the index to insert the new element:  3\n",
      "Enter the new element:  keer\n"
     ]
    },
    {
     "name": "stdout",
     "output_type": "stream",
     "text": [
      "Invalid index! The new element will be appended.\n",
      "Updated list: ['madhura', 'madhu', 'keer']\n"
     ]
    }
   ],
   "source": [
    "user_list = input(\"Enter elements separated by commas: \").split(',')\n",
    "\n",
    "\n",
    "user_list = [item.strip() for item in user_list]\n",
    "\n",
    "\n",
    "try:\n",
    "    index = int(input(\"Enter the index to insert the new element: \"))\n",
    "    new_element = input(\"Enter the new element: \")\n",
    "\n",
    "    \n",
    "    if 0 <= index <= len(user_list):\n",
    "        user_list.insert(index, new_element)\n",
    "        print(f\"Element inserted at index {index}.\")\n",
    "    else:\n",
    "        print(\"Invalid index! The new element will be appended.\")\n",
    "        user_list.append(new_element)\n",
    "\n",
    "except ValueError:\n",
    "    print(\"Invalid input! Index must be an integer.\")\n",
    "\n",
    "\n",
    "print(\"Updated list:\", user_list)"
   ]
  },
  {
   "cell_type": "code",
   "execution_count": 2,
   "id": "a8d2a1cd-a087-41b2-bf49-46144e8987c1",
   "metadata": {},
   "outputs": [
    {
     "name": "stdout",
     "output_type": "stream",
     "text": [
      "Enter 10 numbers:\n"
     ]
    },
    {
     "name": "stdin",
     "output_type": "stream",
     "text": [
      "Enter number 1:  1\n",
      "Enter number 2:  2\n",
      "Enter number 3:  4\n",
      "Enter number 4:  5\n",
      "Enter number 5:  6\n",
      "Enter number 6:  7\n",
      "Enter number 7:  8\n",
      "Enter number 8:  9\n",
      "Enter number 9:  4\n",
      "Enter number 10:  5\n"
     ]
    },
    {
     "name": "stdout",
     "output_type": "stream",
     "text": [
      "Updated list after removing the third and all odd elements:\n",
      "[2, 6, 8, 4]\n"
     ]
    }
   ],
   "source": [
    "numbers = []\n",
    "print(\"Enter 10 numbers:\")\n",
    "for i in range(10):\n",
    "    num = int(input(f\"Enter number {i+1}: \"))\n",
    "    numbers.append(num)\n",
    "\n",
    "\n",
    "if len(numbers) >= 3:\n",
    "    numbers.pop(2)\n",
    "\n",
    "\n",
    "for num in numbers[:]:  \n",
    "    if num % 2 != 0:\n",
    "        numbers.remove(num)\n",
    "\n",
    "\n",
    "print(\"Updated list after removing the third and all odd elements:\")\n",
    "print(numbers)\n"
   ]
  },
  {
   "cell_type": "code",
   "execution_count": null,
   "id": "d80a292d-a4ec-4945-b3df-433a849e2654",
   "metadata": {},
   "outputs": [],
   "source": []
  }
 ],
 "metadata": {
  "kernelspec": {
   "display_name": "Python 3 (ipykernel)",
   "language": "python",
   "name": "python3"
  },
  "language_info": {
   "codemirror_mode": {
    "name": "ipython",
    "version": 3
   },
   "file_extension": ".py",
   "mimetype": "text/x-python",
   "name": "python",
   "nbconvert_exporter": "python",
   "pygments_lexer": "ipython3",
   "version": "3.11.4"
  }
 },
 "nbformat": 4,
 "nbformat_minor": 5
}
