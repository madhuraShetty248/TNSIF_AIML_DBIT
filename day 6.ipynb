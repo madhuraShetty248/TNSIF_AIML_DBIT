{
 "cells": [
  {
   "cell_type": "code",
   "execution_count": 4,
   "id": "93f1d2b3-1f5c-4484-9cab-5d36d8dfb7bc",
   "metadata": {},
   "outputs": [
    {
     "name": "stdout",
     "output_type": "stream",
     "text": [
      "[ 2  4  6  8 10]\n",
      "[ 2  4  6  8 10]\n",
      "[[ 0  1  2  3]\n",
      " [ 4  5  6  7]\n",
      " [ 8  9 10 11]]\n",
      "[[19 22]\n",
      " [43 50]]\n",
      "mean: -0.03730303334099719, Std: 1.039920169583038\n"
     ]
    }
   ],
   "source": [
    "\n",
    "import numpy as np\n",
    "arr1=np.array([1, 2, 3, 4, 5]) \n",
    "arr2= np.array([[1, 2, 3], [4, 5, 6]]) \n",
    "print(arr1*2) \n",
    "print(arr1+arr1) \n",
    "arr3= np.arange(12).reshape(3, 4) \n",
    "print(arr3)\n",
    "\n",
    "matrix1= np.array([[1, 2],[ 3, 4]])\n",
    "matrix2=np.array([[5,6],[7,8]])\n",
    "print(np.dot(matrix1, matrix2))\n",
    "\n",
    "data= np.random.normal(0, 1, 1000) \n",
    "\n",
    "print(f\"mean: {data.mean()}, Std: {data.std()}\")\n",
    "\n"
   ]
  },
  {
   "cell_type": "code",
   "execution_count": 18,
   "id": "099cc5ef-e2e9-41ce-a3c3-5a07358fa4f7",
   "metadata": {},
   "outputs": [
    {
     "name": "stdout",
     "output_type": "stream",
     "text": [
      "      Name  Age  Salary\n",
      "0    Alice   25   50000\n",
      "1      Bob   30   60000\n",
      "2  Charlie   35   70000\n",
      "3    David   40   80000\n",
      "    Name  Age  Salary\n",
      "0  Alice   25   50000\n",
      "1    Bob   30   60000\n",
      "             Age        Salary\n",
      "count   4.000000      4.000000\n",
      "mean   32.500000  65000.000000\n",
      "std     6.454972  12909.944487\n",
      "min    25.000000  50000.000000\n",
      "25%    28.750000  57500.000000\n",
      "50%    32.500000  65000.000000\n",
      "75%    36.250000  72500.000000\n",
      "max    40.000000  80000.000000\n",
      "32.5\n",
      "      Name  Age  Salary\n",
      "2  Charlie   35   70000\n",
      "3    David   40   80000\n",
      "      Name  Salary\n",
      "1      Bob   60000\n",
      "2  Charlie   70000\n",
      "     A    B\n",
      "0  1.0  5.0\n",
      "1  2.0  0.0\n",
      "2  0.0  0.0\n",
      "3  4.0  8.0\n",
      "     A    B\n",
      "0  1.0  5.0\n",
      "3  4.0  8.0\n",
      "             Age   Salary\n",
      "Department               \n",
      "HR          32.5  65000.0\n",
      "Tech        32.5  65000.0\n",
      "      Name  Age  Salary Department   Bonus\n",
      "0    Alice   25   50000         HR  2000.0\n",
      "1      Bob   30   60000       Tech  1500.0\n",
      "2  Charlie   35   70000       Tech     NaN\n",
      "3    David   40   80000         HR     NaN\n",
      "                value\n",
      "date                 \n",
      "2023-01-01  51.333333\n",
      "2023-01-04  70.666667\n",
      "2023-01-07  38.666667\n",
      "2023-01-10  49.000000\n"
     ]
    }
   ],
   "source": [
    "import pandas as pd\n",
    "import numpy as np\n",
    "\n",
    "data = {\n",
    "    'Name': ['Alice', 'Bob', 'Charlie', 'David'],\n",
    "    'Age': [25, 30, 35, 40],\n",
    "    'Salary':[50000, 60000, 70000, 80000]\n",
    "}\n",
    "df = pd.DataFrame(data)\n",
    "print(df)\n",
    "\n",
    "# Reading from CSV (commented)\n",
    "# df = pd.read_csv('data.csv')\n",
    "print(df.head(2))              \n",
    "print(df.describe())            \n",
    "print(df['Age'].mean())         \n",
    "\n",
    "\n",
    "print(df[df['Age'] > 30])        \n",
    "print(df.loc[1:2, ['Name','Salary']])  \n",
    "\n",
    "\n",
    "df_with_nan = pd.DataFrame({\n",
    "    'A': [1, 2, np.nan, 4],\n",
    "    'B': [5, np.nan, np.nan, 8]\n",
    "})\n",
    "print(df_with_nan.fillna(value=0))  \n",
    "print(df_with_nan.dropna())         \n",
    "df['Department'] = ['HR', 'Tech', 'Tech', 'HR']\n",
    "print(df.groupby('Department').mean(numeric_only=True)) \n",
    "\n",
    "df2 = pd.DataFrame({\n",
    "    'Name': ['Alice', 'Bob', 'Eve'],\n",
    "    'Bonus': [2000, 1500, 3000]\n",
    "})\n",
    "print(pd.merge(df, df2, on='Name', how='left'))  \n",
    "\n",
    "date_rng = pd.date_range(start='1/1/2023', end='1/10/2023', freq='D') \n",
    "ts = pd.DataFrame(date_rng, columns=['date'])\n",
    "ts['value'] = np.random.randint(0, 100, size=(len(date_rng)))\n",
    "ts.set_index('date', inplace=True)\n",
    "print(ts.resample('3D').mean()) \n"
   ]
  },
  {
   "cell_type": "code",
   "execution_count": null,
   "id": "ef350096-e7f5-4634-a07c-4f04e923bb0a",
   "metadata": {},
   "outputs": [],
   "source": []
  },
  {
   "cell_type": "code",
   "execution_count": null,
   "id": "15327778-53bf-4e2d-97df-db76ca0f42fb",
   "metadata": {},
   "outputs": [],
   "source": []
  }
 ],
 "metadata": {
  "kernelspec": {
   "display_name": "Python 3 (ipykernel)",
   "language": "python",
   "name": "python3"
  },
  "language_info": {
   "codemirror_mode": {
    "name": "ipython",
    "version": 3
   },
   "file_extension": ".py",
   "mimetype": "text/x-python",
   "name": "python",
   "nbconvert_exporter": "python",
   "pygments_lexer": "ipython3",
   "version": "3.11.4"
  }
 },
 "nbformat": 4,
 "nbformat_minor": 5
}
