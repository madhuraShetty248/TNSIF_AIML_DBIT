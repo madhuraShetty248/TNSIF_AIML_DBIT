{
 "cells": [
  {
   "cell_type": "markdown",
   "id": "270831ab-94da-4353-b98c-a905dbbadc8a",
   "metadata": {},
   "source": [
    "# import pandas as pd\n",
    "from itertools import combinations\n",
    "\n",
    "# Dataset\n",
    "dataset = [\n",
    "    ['Coffee', 'Donut', 'Sandwich'],\n",
    "    ['Coffee', 'Donut'],\n",
    "    ['Coffee', 'Sandwich'],\n",
    "    ['Coffee', 'Muffin'],\n",
    "    ['Donut', 'Muffin']\n",
    "]\n",
    "\n",
    "\n",
    "all_items = sorted(set(item for transaction in dataset for item in transaction))\n",
    "df = pd.DataFrame([[1 if item in trans else 0 for item in all_items] for trans in dataset],\n",
    "                  columns=all_items)\n",
    "\n",
    "print(\"One-Hot Encoded DataFrame:\\n\", df)\n",
    "\n",
    "\n",
    "def get_support(itemset, df):\n",
    "    mask = df[list(itemset)].all(axis=1)\n",
    "    return mask.sum() / len(df)\n"
   ]
  },
  {
   "cell_type": "code",
   "execution_count": 8,
   "id": "7caa9a1b-9d55-411a-836f-503f46a21c8f",
   "metadata": {},
   "outputs": [
    {
     "name": "stdout",
     "output_type": "stream",
     "text": [
      "\n",
      "Frequent Itemsets (Support >= 0.4):\n",
      "{'Coffee'} : 0.80\n",
      "{'Donut'} : 0.60\n",
      "{'Muffin'} : 0.40\n",
      "{'Sandwich'} : 0.40\n",
      "{'Donut', 'Coffee'} : 0.40\n",
      "{'Coffee', 'Sandwich'} : 0.40\n"
     ]
    }
   ],
   "source": [
    " #Step 1: Find frequent itemsets\n",
    "min_support = 0.4\n",
    "frequent_itemsets = []\n",
    "\n",
    "# Single items\n",
    "for item in all_items:\n",
    "    sup = get_support([item], df)\n",
    "    if sup >= min_support:\n",
    "        frequent_itemsets.append((frozenset([item]), sup))\n",
    "\n",
    "# Pairs and triples\n",
    "for size in range(2, len(all_items)+1):\n",
    "    for comb in combinations(all_items, size):\n",
    "        sup = get_support(comb, df)\n",
    "        if sup >= min_support:\n",
    "            frequent_itemsets.append((frozenset(comb), sup))\n",
    "\n",
    "print(\"\\nFrequent Itemsets (Support >= 0.4):\")\n",
    "for itemset, sup in frequent_itemsets:\n",
    "    print(f\"{set(itemset)} : {sup:.2f}\")"
   ]
  },
  {
   "cell_type": "code",
   "execution_count": 9,
   "id": "95e188ed-ca6b-49ef-906d-9d98641ceb68",
   "metadata": {},
   "outputs": [
    {
     "name": "stdout",
     "output_type": "stream",
     "text": [
      "\n",
      "Association Rules:\n",
      "{'Donut'} -> {'Coffee'} | support=0.40, confidence=0.67, lift=0.83\n",
      "{'Coffee'} -> {'Donut'} | support=0.40, confidence=0.50, lift=0.83\n",
      "{'Coffee'} -> {'Sandwich'} | support=0.40, confidence=0.50, lift=1.25\n",
      "{'Sandwich'} -> {'Coffee'} | support=0.40, confidence=1.00, lift=1.25\n"
     ]
    }
   ],
   "source": [
    "# Step 2: Generate association rules\n",
    "def generate_rules(frequent_itemsets, df, min_conf=0.1):\n",
    "    rules = []\n",
    "    for itemset, sup in frequent_itemsets:\n",
    "        if len(itemset) > 1:\n",
    "            for i in range(1, len(itemset)):\n",
    "                for antecedent in combinations(itemset, i):\n",
    "                    antecedent = frozenset(antecedent)\n",
    "                    consequent = itemset - antecedent\n",
    "                    if consequent:\n",
    "                        sup_itemset = get_support(itemset, df)\n",
    "                        sup_antecedent = get_support(antecedent, df)\n",
    "                        sup_consequent = get_support(consequent, df)\n",
    "                        conf = sup_itemset / sup_antecedent\n",
    "                        lift = conf / sup_consequent\n",
    "                        rules.append((antecedent, consequent, sup_itemset, conf, lift))\n",
    "    return rules\n",
    "\n",
    "rules = generate_rules(frequent_itemsets, df)\n",
    "print(\"\\nAssociation Rules:\")\n",
    "for ant, cons, sup, conf, lift in rules:\n",
    "    print(f\"{set(ant)} -> {set(cons)} | support={sup:.2f}, confidence={conf:.2f}, lift={lift:.2f}\")\n"
   ]
  },
  {
   "cell_type": "code",
   "execution_count": 10,
   "id": "e9232866-1c8a-4e09-963e-e94af0c79996",
   "metadata": {},
   "outputs": [
    {
     "name": "stdout",
     "output_type": "stream",
     "text": [
      "\n",
      "Strong Rules (Support >= 0.4, Confidence >= 0.6):\n",
      "{'Donut'} -> {'Coffee'} | support=0.40, confidence=0.67, lift=0.83\n",
      "{'Sandwich'} -> {'Coffee'} | support=0.40, confidence=1.00, lift=1.25\n"
     ]
    }
   ],
   "source": [
    "\n",
    "# Step 3: Filter strong rules\n",
    "min_conf = 0.6\n",
    "strong_rules = [(a, c, s, conf, l) for (a, c, s, conf, l) in rules if s >= min_support and conf >= min_conf]\n",
    "\n",
    "print(\"\\nStrong Rules (Support >= 0.4, Confidence >= 0.6):\")\n",
    "for ant, cons, sup, conf, lift in strong_rules:\n",
    "    print(f\"{set(ant)} -> {set(cons)} | support={sup:.2f}, confidence={conf:.2f}, lift={lift:.2f}\")\n"
   ]
  },
  {
   "cell_type": "code",
   "execution_count": null,
   "id": "5bbf0abd-35c7-4ad4-b4d5-8514cda8dc76",
   "metadata": {},
   "outputs": [],
   "source": []
  }
 ],
 "metadata": {
  "kernelspec": {
   "display_name": "Python 3 (ipykernel)",
   "language": "python",
   "name": "python3"
  },
  "language_info": {
   "codemirror_mode": {
    "name": "ipython",
    "version": 3
   },
   "file_extension": ".py",
   "mimetype": "text/x-python",
   "name": "python",
   "nbconvert_exporter": "python",
   "pygments_lexer": "ipython3",
   "version": "3.11.4"
  }
 },
 "nbformat": 4,
 "nbformat_minor": 5
}
