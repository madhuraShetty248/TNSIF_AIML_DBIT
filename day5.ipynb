{
 "cells": [
  {
   "cell_type": "code",
   "execution_count": 2,
   "id": "767b20dd-0a20-4b46-9b4f-f7fbdadee9e9",
   "metadata": {},
   "outputs": [
    {
     "name": "stdout",
     "output_type": "stream",
     "text": [
      "(3,)\n"
     ]
    }
   ],
   "source": [
    "tupe=(3,)\n",
    "print(tupe)"
   ]
  },
  {
   "cell_type": "code",
   "execution_count": 7,
   "id": "24e35744-faf6-49fc-bdfa-1776c4c5ef02",
   "metadata": {},
   "outputs": [
    {
     "name": "stdin",
     "output_type": "stream",
     "text": [
      "enter number of employees 3\n",
      "enter salary for employees1: 40000\n",
      "enter salary for employees2: 50000\n",
      "enter salary for employees3: 20000\n"
     ]
    },
    {
     "name": "stdout",
     "output_type": "stream",
     "text": [
      "minimum salary: 20000.0\n",
      "maximum salary: 50000.0\n"
     ]
    }
   ],
   "source": [
    "n=int(input(\"enter number of employees\"))\n",
    "salaries=[]\n",
    "for i in range(n):\n",
    "    salary=float(input(f\"enter salary for employees{i+1}:\"))\n",
    "    salaries.append(salary)\n",
    "\n",
    "min_salary=min(salaries)\n",
    "\n",
    "max_salary=max(salaries)\n",
    "\n",
    "print(\"minimum salary:\",min_salary)\n",
    "\n",
    "print(\"maximum salary:\",max_salary)\n",
    "\n",
    "\n"
   ]
  },
  {
   "cell_type": "code",
   "execution_count": 8,
   "id": "e0234ef2-d637-4cec-96ae-97350c69b035",
   "metadata": {},
   "outputs": [
    {
     "name": "stdout",
     "output_type": "stream",
     "text": [
      "('PYTHON',)\n",
      "1\n",
      "4\n",
      "(10, 20, 30, 10, 20, 30)\n"
     ]
    }
   ],
   "source": [
    "t=tuple()\n",
    "t=t+('PYTHON',)\n",
    "print(t)\n",
    "print(len(t))\n",
    "t1=(10,20,30)\n",
    "t2=t1+t\n",
    "print(len(t2))\n",
    "t3=t1*2\n",
    "print(t3)"
   ]
  },
  {
   "cell_type": "code",
   "execution_count": null,
   "id": "05ec2b20-752d-4f38-90bd-ceb6df0d4a37",
   "metadata": {},
   "outputs": [],
   "source": []
  }
 ],
 "metadata": {
  "kernelspec": {
   "display_name": "Python 3 (ipykernel)",
   "language": "python",
   "name": "python3"
  },
  "language_info": {
   "codemirror_mode": {
    "name": "ipython",
    "version": 3
   },
   "file_extension": ".py",
   "mimetype": "text/x-python",
   "name": "python",
   "nbconvert_exporter": "python",
   "pygments_lexer": "ipython3",
   "version": "3.11.4"
  }
 },
 "nbformat": 4,
 "nbformat_minor": 5
}
