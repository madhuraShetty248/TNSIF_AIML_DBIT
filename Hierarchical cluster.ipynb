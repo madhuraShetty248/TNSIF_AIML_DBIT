{
 "cells": [
  {
   "cell_type": "code",
   "execution_count": 1,
   "id": "106983bf-5779-48e3-a01b-70ca5f5f4eaf",
   "metadata": {},
   "outputs": [
    {
     "name": "stdout",
     "output_type": "stream",
     "text": [
      "   CustomerID  Annual Income  Spending Score\n",
      "0           1             15              39\n",
      "1           2             16              81\n",
      "2           3             17               6\n",
      "3           4             18              77\n",
      "4           5             19              40\n",
      "5           6             20              76\n",
      "6           7             21               6\n",
      "7           8             22              94\n",
      "8           9             23               3\n",
      "9          10             24              72\n"
     ]
    }
   ],
   "source": [
    "import pandas as pd\n",
    "\n",
    "# Given dataset\n",
    "data = {\n",
    "    'CustomerID':[1,2,3,4,5,6,7,8,9,10],\n",
    "    'Annual Income':[15,16,17,18,19,20,21,22,23,24],\n",
    "    'Spending Score':[39,81,6,77,40,76,6,94,3,72]\n",
    "}\n",
    "\n",
    "df = pd.DataFrame(data)\n",
    "print(df)\n"
   ]
  },
  {
   "cell_type": "code",
   "execution_count": 2,
   "id": "3d102983-40f3-46aa-aed5-4b0d45ec4ae7",
   "metadata": {},
   "outputs": [
    {
     "name": "stdout",
     "output_type": "stream",
     "text": [
      "   Annual Income  Spending Score\n",
      "0             15              39\n",
      "1             16              81\n",
      "2             17               6\n",
      "3             18              77\n",
      "4             19              40\n",
      "5             20              76\n",
      "6             21               6\n",
      "7             22              94\n",
      "8             23               3\n",
      "9             24              72\n"
     ]
    }
   ],
   "source": [
    "X = df[['Annual Income','Spending Score']]\n",
    "print(X)\n"
   ]
  },
  {
   "cell_type": "code",
   "execution_count": 3,
   "id": "55af0719-2812-4396-b45d-94a55b5e0d80",
   "metadata": {},
   "outputs": [
    {
     "data": {
      "image/png": "[encoded data removed]",
      "text/plain": [
       "<Figure size 800x500 with 1 Axes>"
      ]
     },
     "metadata": {},
     "output_type": "display_data"
    }
   ],
   "source": [
    "import matplotlib.pyplot as plt\n",
    "from scipy.cluster.hierarchy import dendrogram, linkage\n",
    "\n",
    "Z = linkage(X, method='ward')  \n",
    "plt.figure(figsize=(8,5))\n",
    "dendrogram(Z, labels=df['CustomerID'].values)\n",
    "plt.title(\"Customer Dendrogram\")\n",
    "plt.xlabel(\"Customer ID\")\n",
    "plt.ylabel(\"Distance\")\n",
    "plt.show()\n"
   ]
  },
  {
   "cell_type": "code",
   "execution_count": 5,
   "id": "fe298c48-98f0-42ab-b528-ac8c36af52a1",
   "metadata": {},
   "outputs": [
    {
     "name": "stdout",
     "output_type": "stream",
     "text": [
      "   CustomerID  Annual Income  Spending Score  Cluster\n",
      "0           1             15              39        2\n",
      "1           2             16              81        0\n",
      "2           3             17               6        1\n",
      "3           4             18              77        0\n",
      "4           5             19              40        2\n",
      "5           6             20              76        0\n",
      "6           7             21               6        1\n",
      "7           8             22              94        0\n",
      "8           9             23               3        1\n",
      "9          10             24              72        0\n"
     ]
    }
   ],
   "source": [
    "from sklearn.cluster import AgglomerativeClustering\n",
    "\n",
    "\n",
    "model = AgglomerativeClustering(n_clusters=3, metric='euclidean', linkage='ward')\n",
    "df['Cluster'] = model.fit_predict(X)\n",
    "\n",
    "print(df[['CustomerID','Annual Income','Spending Score','Cluster']])\n",
    "\n"
   ]
  },
  {
   "cell_type": "code",
   "execution_count": 7,
   "id": "3fe868f5-d90f-4db6-ba8a-dfe77bf3e78b",
   "metadata": {},
   "outputs": [
    {
     "name": "stdout",
     "output_type": "stream",
     "text": [
      "\n",
      "Cluster 0Summary:\n",
      "       Annual Income  Spending Score\n",
      "count       5.000000        5.000000\n",
      "mean       20.000000       80.000000\n",
      "std         3.162278        8.455767\n",
      "min        16.000000       72.000000\n",
      "25%        18.000000       76.000000\n",
      "50%        20.000000       77.000000\n",
      "75%        22.000000       81.000000\n",
      "max        24.000000       94.000000\n",
      "\n",
      "Cluster 1Summary:\n",
      "       Annual Income  Spending Score\n",
      "count       3.000000        3.000000\n",
      "mean       20.333333        5.000000\n",
      "std         3.055050        1.732051\n",
      "min        17.000000        3.000000\n",
      "25%        19.000000        4.500000\n",
      "50%        21.000000        6.000000\n",
      "75%        22.000000        6.000000\n",
      "max        23.000000        6.000000\n",
      "\n",
      "Cluster 2Summary:\n",
      "       Annual Income  Spending Score\n",
      "count       2.000000        2.000000\n",
      "mean       17.000000       39.500000\n",
      "std         2.828427        0.707107\n",
      "min        15.000000       39.000000\n",
      "25%        16.000000       39.250000\n",
      "50%        17.000000       39.500000\n",
      "75%        18.000000       39.750000\n",
      "max        19.000000       40.000000\n"
     ]
    }
   ],
   "source": [
    "for cluster in  sorted(df['Cluster'].unique()):\n",
    "    group=df[df['Cluster']==cluster]\n",
    "    print(f\"\\nCluster {cluster}Summary:\")\n",
    "    print(group[['Annual Income','Spending Score']].describe())"
   ]
  },
  {
   "cell_type": "code",
   "execution_count": null,
   "id": "55f801ad-7a8f-4790-9b19-8792055a4b43",
   "metadata": {},
   "outputs": [],
   "source": []
  }
 ],
 "metadata": {
  "kernelspec": {
   "display_name": "Python 3 (ipykernel)",
   "language": "python",
   "name": "python3"
  },
  "language_info": {
   "codemirror_mode": {
    "name": "ipython",
    "version": 3
   },
   "file_extension": ".py",
   "mimetype": "text/x-python",
   "name": "python",
   "nbconvert_exporter": "python",
   "pygments_lexer": "ipython3",
   "version": "3.11.4"
  }
 },
 "nbformat": 4,
 "nbformat_minor": 5
}
