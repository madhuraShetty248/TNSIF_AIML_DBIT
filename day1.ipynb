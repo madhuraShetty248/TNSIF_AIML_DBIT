{
 "cells": [
  {
   "cell_type": "code",
   "execution_count": 1,
   "id": "852ab738-9eda-4dd7-a1ba-98a8b31f9c11",
   "metadata": {},
   "outputs": [
    {
     "name": "stdin",
     "output_type": "stream",
     "text": [
      "Enter your 4-digit PIN:  1234\n"
     ]
    },
    {
     "name": "stdout",
     "output_type": "stream",
     "text": [
      "PIN accepted. Access granted.\n",
      "\n",
      "ATM Menu:\n",
      "1. Check Balance\n",
      "2. Deposit Money\n",
      "3. Withdraw Money\n",
      "4. Exit\n"
     ]
    },
    {
     "name": "stdin",
     "output_type": "stream",
     "text": [
      "Enter your choice (1-4):  1\n"
     ]
    },
    {
     "name": "stdout",
     "output_type": "stream",
     "text": [
      "Your current balance is: ₹10000\n",
      "\n",
      "ATM Menu:\n",
      "1. Check Balance\n",
      "2. Deposit Money\n",
      "3. Withdraw Money\n",
      "4. Exit\n"
     ]
    },
    {
     "name": "stdin",
     "output_type": "stream",
     "text": [
      "Enter your choice (1-4):  2\n",
      "Enter amount to deposit: ₹ 1000\n"
     ]
    },
    {
     "name": "stdout",
     "output_type": "stream",
     "text": [
      "₹1000.0 deposited successfully.\n",
      "\n",
      "ATM Menu:\n",
      "1. Check Balance\n",
      "2. Deposit Money\n",
      "3. Withdraw Money\n",
      "4. Exit\n"
     ]
    },
    {
     "name": "stdin",
     "output_type": "stream",
     "text": [
      "Enter your choice (1-4):  3\n",
      "Enter amount to withdraw: ₹ 500\n"
     ]
    },
    {
     "name": "stdout",
     "output_type": "stream",
     "text": [
      "₹500.0 withdrawn successfully.\n",
      "\n",
      "ATM Menu:\n",
      "1. Check Balance\n",
      "2. Deposit Money\n",
      "3. Withdraw Money\n",
      "4. Exit\n"
     ]
    },
    {
     "name": "stdin",
     "output_type": "stream",
     "text": [
      "Enter your choice (1-4):  4\n"
     ]
    },
    {
     "name": "stdout",
     "output_type": "stream",
     "text": [
      "Thank you for using the ATM. Goodbye!\n"
     ]
    }
   ],
   "source": [
    "\n",
    "correct_pin = \"1234\"\n",
    "balance = 10000  \n",
    "attempts = 0\n",
    "max_attempts = 3\n",
    "\n",
    "\n",
    "while attempts < max_attempts:\n",
    "    pin = input(\"Enter your 4-digit PIN: \")\n",
    "    if pin == correct_pin:\n",
    "        print(\"PIN accepted. Access granted.\")\n",
    "        \n",
    "        while True:\n",
    "            print(\"\\nATM Menu:\")\n",
    "            print(\"1. Check Balance\")\n",
    "            print(\"2. Deposit Money\")\n",
    "            print(\"3. Withdraw Money\")\n",
    "            print(\"4. Exit\")\n",
    "            choice = input(\"Enter your choice (1-4): \")\n",
    "\n",
    "            if choice == \"1\":\n",
    "                print(f\"Your current balance is: ₹{balance}\")\n",
    "\n",
    "            elif choice == \"2\":\n",
    "                deposit = float(input(\"Enter amount to deposit: ₹\"))\n",
    "                if deposit <= 0:\n",
    "                    print(\"Invalid amount.\")\n",
    "                else:\n",
    "                    balance += deposit\n",
    "                    print(f\"₹{deposit} deposited successfully.\")\n",
    "\n",
    "            elif choice == \"3\":\n",
    "                withdraw = float(input(\"Enter amount to withdraw: ₹\"))\n",
    "                if withdraw <= 0:\n",
    "                    print(\"Invalid amount.\")\n",
    "                elif withdraw > balance:\n",
    "                    print(\"Insufficient balance.\")\n",
    "                else:\n",
    "                    balance -= withdraw\n",
    "                    print(f\"₹{withdraw} withdrawn successfully.\")\n",
    "\n",
    "            elif choice == \"4\":\n",
    "                print(\"Thank you for using the ATM. Goodbye!\")\n",
    "                break\n",
    "\n",
    "            else:\n",
    "                print(\"Invalid choice. Please try again.\")\n",
    "        break\n",
    "    else:\n",
    "        attempts += 1\n",
    "        print(f\"Incorrect PIN. {max_attempts - attempts} attempt(s) left.\\n\")\n",
    "\n",
    "if attempts == max_attempts:\n",
    "    print(\"Card blocked. Too many incorrect attempts.\")"
   ]
  },
  {
   "cell_type": "code",
   "execution_count": null,
   "id": "b6b301b4-d16a-49cb-8641-6ae958fef492",
   "metadata": {},
   "outputs": [],
   "source": []
  }
 ],
 "metadata": {
  "kernelspec": {
   "display_name": "Python 3 (ipykernel)",
   "language": "python",
   "name": "python3"
  },
  "language_info": {
   "codemirror_mode": {
    "name": "ipython",
    "version": 3
   },
   "file_extension": ".py",
   "mimetype": "text/x-python",
   "name": "python",
   "nbconvert_exporter": "python",
   "pygments_lexer": "ipython3",
   "version": "3.11.4"
  }
 },
 "nbformat": 4,
 "nbformat_minor": 5
}
