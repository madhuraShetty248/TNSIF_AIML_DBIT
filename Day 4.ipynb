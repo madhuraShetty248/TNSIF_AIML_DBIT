{
 "cells": [
  {
   "cell_type": "code",
   "execution_count": 9,
   "id": "d6c21655-4c31-436b-945a-1c2fd5cdd8f3",
   "metadata": {},
   "outputs": [
    {
     "name": "stdout",
     "output_type": "stream",
     "text": [
      "{'Soma': 87678943678, 'Seta': 8975231456, 'Rita': 7867523145, 'reetu': 9825316377}\n"
     ]
    },
    {
     "name": "stdin",
     "output_type": "stream",
     "text": [
      "Enter the name whose number to be modified reetu\n",
      "Enter the new number 7986875765\n"
     ]
    },
    {
     "name": "stdout",
     "output_type": "stream",
     "text": [
      "Modified successfully\n",
      "{'Soma': 87678943678, 'Seta': 8975231456, 'Rita': 7867523145, 'reetu': '7986875765'}\n"
     ]
    }
   ],
   "source": [
    "phonebook={\"Soma\":87678943678,\"Seta\":8975231456,\"Rita\":7867523145,\"reetu\":9825316377}\n",
    "print(phonebook)\n",
    "\n",
    "name = input(\"Enter the name whose number to be modified\")\n",
    "if name in phonebook:\n",
    "    newnumb = input(\"Enter the new number\")\n",
    "    phonebook[name] = newnumb\n",
    "    print(\"Modified successfully\")\n",
    "    print(phonebook)\n",
    "else:\n",
    "    print(name, \"was not found.\")"
   ]
  },
  {
   "cell_type": "code",
   "execution_count": 10,
   "id": "818e9f2c-e591-44c3-8650-11aee4a2706f",
   "metadata": {},
   "outputs": [
    {
     "name": "stdout",
     "output_type": "stream",
     "text": [
      "{'Hity': 8796543908, 'Soma': 9888765490, 'Raki': 6779765312}\n",
      "{'Hity': 87868664543, 'Soma': 9888765490, 'Raki': 6779765312}\n",
      "{'Hity': 87868664543, 'Soma': 9888765490, 'Raki': 6779765312, 'Akir': 67476878799}\n"
     ]
    }
   ],
   "source": [
    "phonebook={\"Hity\":8796543908,\"Soma\":9888765490,\"Raki\":6779765312}\n",
    "print(phonebook)\n",
    "phonebook[\"Hity\"]=87868664543\n",
    "print(phonebook)\n",
    "phonebook.update({\"Akir\":67476878799})\n",
    "print(phonebook)"
   ]
  },
  {
   "cell_type": "code",
   "execution_count": 11,
   "id": "fa166bf4-5de2-45be-b83f-06a86649c68e",
   "metadata": {},
   "outputs": [
    {
     "name": "stdout",
     "output_type": "stream",
     "text": [
      "{'madhu': 9764543678, 'Seeta': 8975231456, 'Reka': 7867523145, 'tiger': 9825316377}\n"
     ]
    },
    {
     "name": "stdin",
     "output_type": "stream",
     "text": [
      "enter the name to delete: tiger\n"
     ]
    },
    {
     "name": "stdout",
     "output_type": "stream",
     "text": [
      "delete successfully\n",
      "{'madhu': 9764543678, 'Seeta': 8975231456, 'Reka': 7867523145}\n"
     ]
    }
   ],
   "source": [
    "phonebook={\"madhu\":9764543678,\"Seeta\":8975231456,\"Reka\":7867523145,\"tiger\":9825316377}\n",
    "print(phonebook)\n",
    "\n",
    "name = input(\"enter the name to delete:\")\n",
    "if name in phonebook:\n",
    "    del phonebook[name]\n",
    "    print (\"delete successfully\")\n",
    "    print (phonebook)\n",
    "else:\n",
    "    print (name,\"was not found\")"
   ]
  },
  {
   "cell_type": "code",
   "execution_count": 12,
   "id": "8736e6ca-f1da-4e2c-a9b4-70f5f089371f",
   "metadata": {},
   "outputs": [
    {
     "name": "stdout",
     "output_type": "stream",
     "text": [
      "<class 'dict'>\n",
      "{}\n",
      "dict_keys([])\n"
     ]
    }
   ],
   "source": [
    "phonebook={\"harika\":9764543678,\"Seeta\":8975231456,\"Reka\":7867523145,\"kity\":9825316377}\n",
    "print(type(phonebook))\n",
    "\n",
    "#clear\n",
    "phonebook.clear()\n",
    "print(phonebook)\n",
    "\n",
    "print(phonebook.keys())"
   ]
  },
  {
   "cell_type": "code",
   "execution_count": 8,
   "id": "2d807260-4d03-4b0d-9039-4a826478e566",
   "metadata": {},
   "outputs": [
    {
     "name": "stdin",
     "output_type": "stream",
     "text": [
      "Enter number of employees:  2\n",
      "\n",
      "Enter name of employee 1:  Madhura\n",
      "Enter employee number of Madhura:  100\n",
      "\n",
      "Enter name of employee 2:  keerthana\n",
      "Enter employee number of keerthana:  900\n"
     ]
    },
    {
     "name": "stdout",
     "output_type": "stream",
     "text": [
      "\n",
      "Employee Records:\n",
      "Name: Madhura, Employee Number: 100\n",
      "Name: keerthana, Employee Number: 900\n"
     ]
    }
   ],
   "source": [
    "\n",
    "\n",
    "n = int(input(\"Enter number of employees: \"))\n",
    "employees = {}\n",
    "for i in range(n):\n",
    "    name = input(f\"\\nEnter name of employee {i+1}: \")\n",
    "    number = input(f\"Enter employee number of {name}: \")\n",
    "    employees[name] = number\n",
    "print(\"\\nEmployee Records:\")\n",
    "for name, number in employees.items():\n",
    "    print(f\"Name: {name}, Employee Number: {number}\")\n",
    "\n"
   ]
  },
  {
   "cell_type": "markdown",
   "id": "daed4745-c043-43cc-927c-77f2c8f4927b",
   "metadata": {},
   "source": [
    "# "
   ]
  }
 ],
 "metadata": {
  "kernelspec": {
   "display_name": "Python 3 (ipykernel)",
   "language": "python",
   "name": "python3"
  },
  "language_info": {
   "codemirror_mode": {
    "name": "ipython",
    "version": 3
   },
   "file_extension": ".py",
   "mimetype": "text/x-python",
   "name": "python",
   "nbconvert_exporter": "python",
   "pygments_lexer": "ipython3",
   "version": "3.11.4"
  }
 },
 "nbformat": 4,
 "nbformat_minor": 5
}
